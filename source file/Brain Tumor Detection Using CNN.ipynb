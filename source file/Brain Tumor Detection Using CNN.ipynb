{
 "cells": [
  {
   "cell_type": "markdown",
   "id": "682934ba-8231-439b-a44c-42c6e4eb2eab",
   "metadata": {},
   "source": [
    "# 🧠 Brain Tumor Detection Using CNN (MRI Classification)"
   ]
  },
  {
   "cell_type": "markdown",
   "id": "d1304817-f093-404e-b5c2-d0a29eda8dae",
   "metadata": {},
   "source": [
    "#### Step 1: Import Required Libraries"
   ]
  },
  {
   "cell_type": "code",
   "execution_count": 1,
   "id": "f336f4f3-73d9-4a0b-954f-d4a4733da6e7",
   "metadata": {},
   "outputs": [],
   "source": [
    "import os # To access and manage file directories, useful for navigating through MRI image folders.\n",
    "import cv2 # Used for reading and preprocessing image files (e.g., resizing, grayscale conversion).\n",
    "import numpy as np # Used for reading and preprocessing image files (e.g., resizing, grayscale conversion).\n",
    "from PIL import Image # Provides additional image manipulation functionality, especially format conversion.\n",
    "import tensorflow as tf # Main deep learning framework used to build and train the CNN model.\n",
    "from tensorflow.keras.utils import normalize # \tTo scale pixel values between 0 and 1, improving training efficiency.\n",
    "from sklearn.model_selection import train_test_split # To divide the dataset into training and testing sets for model validation.\n",
    "from tensorflow.keras.models import Sequential # Allows the creation of a simple sequential CNN architecture layer by layer.\n",
    "from tensorflow.keras.layers import Conv2D, MaxPooling2D, Activation, Dropout, Flatten, Dense \n",
    "# Key CNN components: convolution, pooling, activation functions, dropout for regularization, flattening, and dense layers for classification."
   ]
  },
  {
   "cell_type": "markdown",
   "id": "836037d8-7c22-40d7-aa8c-d61d59c69b44",
   "metadata": {},
   "source": [
    "#### Step 2: Load Dataset"
   ]
  },
  {
   "cell_type": "code",
   "execution_count": 5,
   "id": "427dfb7e-8cae-4e5a-b9f2-c618418f8771",
   "metadata": {
    "scrolled": true
   },
   "outputs": [
    {
     "name": "stdout",
     "output_type": "stream",
     "text": [
      "C:\\Users\\AMD\n"
     ]
    }
   ],
   "source": [
    "import os # Used to interact with the file system and manage paths.\n",
    "print(os.getcwd()) \t# Printed the current working directory to verify that it points to the dataset folder."
   ]
  },
  {
   "cell_type": "code",
   "execution_count": 6,
   "id": "c6942e20-562c-4d62-8d02-81116f605a01",
   "metadata": {},
   "outputs": [
    {
     "name": "stdout",
     "output_type": "stream",
     "text": [
      "Current Directory: C:\\Users\\AMD\n"
     ]
    }
   ],
   "source": [
    "print(\"Current Directory:\", os.getcwd()) # Printed the current working directory to verify initial script location."
   ]
  },
  {
   "cell_type": "code",
   "execution_count": 10,
   "id": "bcd30dff-5853-4865-b1ea-e3f85e03a0aa",
   "metadata": {},
   "outputs": [],
   "source": [
    "os.chdir(r\"D:\\Projects\\Deep Learning Projects\\Brain Tumor Detection Using CNN\\datasets\")\n",
    "# Changed the working directory to the dataset folder."
   ]
  },
  {
   "cell_type": "code",
   "execution_count": 12,
   "id": "e62e2302-23e0-4723-8191-4785bb7b531f",
   "metadata": {},
   "outputs": [
    {
     "name": "stdout",
     "output_type": "stream",
     "text": [
      "Current Directory: D:\\Projects\\Deep Learning Projects\\Brain Tumor Detection Using CNN\\datasets\n"
     ]
    }
   ],
   "source": [
    "print(\"Current Directory:\", os.getcwd()) # Verified the change to ensure the correct path is active."
   ]
  },
  {
   "cell_type": "code",
   "execution_count": 14,
   "id": "d8b9d6cb-897e-49d3-b63d-d233003858b2",
   "metadata": {},
   "outputs": [],
   "source": [
    "image_directory = r'D:\\Projects\\Deep Learning Projects\\Brain Tumor Detection Using CNN\\datasets\\\\'\n",
    "# Defined the base path for accessing the 'yes' and 'no' image folders.\n",
    "no_tumor_images = os.listdir(image_directory + 'no/') # Loaded file names of all MRI images labeled as \"no tumor\".\n",
    "yes_tumor_images = os.listdir(image_directory + 'yes/') # Loaded file names of all MRI images labeled as \"tumor present\".\n"
   ]
  },
  {
   "cell_type": "markdown",
   "id": "0a8634a6-3295-4fcf-ae92-e37fb28639c9",
   "metadata": {},
   "source": [
    "#### Step 3: Image Preprocessing and Label Assignment"
   ]
  },
  {
   "cell_type": "code",
   "execution_count": 16,
   "id": "52319d86-71ff-4503-ba19-6cfd5f1954f1",
   "metadata": {
    "scrolled": true
   },
   "outputs": [],
   "source": [
    "INPUT_SIZE = 64  # Set image size here\n",
    "\n",
    "# I reset both lists to store MRI image data and their corresponding labels.\n",
    "dataset = [] \n",
    "labels = []\n",
    "\n",
    "for image_name in no_tumor_images: # I started looping through all the 'no tumor' images.\n",
    "    if image_name.endswith('.jpg'): # Ensured only JPEG images are processed.\n",
    "        img_path = os.path.join(image_directory, 'no', image_name) # Constructed the full path for each 'no tumor' image.\n",
    "        img_cv = cv2.imread(img_path) # Loaded the image using OpenCV.\n",
    "        if img_cv is not None: # Checked for any corrupted or unreadable images.\n",
    "            img = Image.fromarray(cv2.cvtColor(img_cv, cv2.COLOR_BGR2RGB)) # Converted image from BGR to RGB using PIL.\n",
    "            img = img.resize((INPUT_SIZE, INPUT_SIZE)) # Resized the image to match the CNN input dimensions.\n",
    "            dataset.append(np.array(img)) # Added the processed image (as a NumPy array) to the dataset list.\n",
    "            labels.append(0) # Appended label 0 for images with no tumor.\n"
   ]
  },
  {
   "cell_type": "code",
   "execution_count": 17,
   "id": "38f90b54-a907-4c01-90b7-7588cec63dd6",
   "metadata": {},
   "outputs": [],
   "source": [
    "# I made sure dataset is still a list\n",
    "if not isinstance(dataset, list): # Ensured dataset remains a list before continuing.\n",
    "    dataset = list(dataset)\n",
    "\n",
    "\n",
    "for image_name in yes_tumor_images: # I looped through all 'yes tumor' images and processed each one\n",
    "    if image_name.endswith('.jpg'): # Processed only .jpg format files.\n",
    "        img_path = os.path.join(image_directory, 'yes', image_name) # Constructed path for each 'yes tumor' image.\n",
    "        img_cv = cv2.imread(img_path) # \tLoaded each tumor image using OpenCV.\n",
    "        if img_cv is not None: # \tSkipped any unreadable files.\n",
    "            \n",
    "            # I converted the BGR image from OpenCV to RGB format\n",
    "            img = Image.fromarray(cv2.cvtColor(img_cv, cv2.COLOR_BGR2RGB))\n",
    "            \n",
    "            # I resized the image to match the input size expected by the model\n",
    "            img = img.resize((INPUT_SIZE, INPUT_SIZE))\n",
    "            \n",
    "            # I converted the image to a NumPy array and added it to the dataset\n",
    "            dataset.append(np.array(img))\n",
    "            \n",
    "            # I added the label '1' for 'yes tumor'\n",
    "            labels.append(1)"
   ]
  },
  {
   "cell_type": "markdown",
   "id": "46022e23-8737-4c7d-bb59-f4abac617ded",
   "metadata": {},
   "source": [
    "#### Step 4: Data Preprocessing"
   ]
  },
  {
   "cell_type": "code",
   "execution_count": 19,
   "id": "2eee1abd-0707-48c0-a546-de075fab0661",
   "metadata": {},
   "outputs": [],
   "source": [
    "# 3. Data Preprocessing\n",
    "\n",
    "# I converted the dataset and labels lists into NumPy arrays for efficient computation\n",
    "dataset = np.array(dataset)\n",
    "labels = np.array(labels)\n",
    "\n",
    "# I split the dataset into training and testing sets (80% train, 20% test)\n",
    "x_train, x_test, y_train, y_test = train_test_split(dataset, labels, test_size=0.2, random_state=0)\n",
    "\n",
    "# I normalized the image pixel values to scale them between 0 and 1 for better model performance\n",
    "x_train = normalize(x_train, axis=1)\n",
    "x_test = normalize(x_test, axis=1)\n"
   ]
  },
  {
   "cell_type": "markdown",
   "id": "b9c171fd-1a4f-4961-a763-eaac6b624849",
   "metadata": {},
   "source": [
    "#### Step 5: Build CNN Model"
   ]
  },
  {
   "cell_type": "code",
   "execution_count": 22,
   "id": "a57353cb-d8c6-4f03-af04-2e6e43e728de",
   "metadata": {},
   "outputs": [],
   "source": [
    "# 4. Build CNN Model\n",
    "\n",
    "from tensorflow.keras.layers import Input\n",
    "\n",
    "# I initialized a Sequential model\n",
    "model = Sequential()\n",
    "\n",
    "# I added an Input layer with the shape matching the resized images\n",
    "model.add(Input(shape=(INPUT_SIZE, INPUT_SIZE, 3)))\n",
    "\n",
    "# I added the first convolutional block: Conv -> ReLU -> MaxPooling\n",
    "model.add(Conv2D(32, (3, 3)))\n",
    "model.add(Activation('relu'))\n",
    "model.add(MaxPooling2D(pool_size=(2, 2)))\n",
    "\n",
    "# I added the second convolutional block with He uniform initialization\n",
    "model.add(Conv2D(32, (3, 3), kernel_initializer='he_uniform'))\n",
    "model.add(Activation('relu'))\n",
    "model.add(MaxPooling2D(pool_size=(2, 2)))\n",
    "\n",
    "# I added the third convolutional block with more filters\n",
    "model.add(Conv2D(64, (3, 3), kernel_initializer='he_uniform'))\n",
    "model.add(Activation('relu'))\n",
    "model.add(MaxPooling2D(pool_size=(2, 2)))\n",
    "\n",
    "# I flattened the output and added a dense layer with dropout for regularization\n",
    "model.add(Flatten())\n",
    "model.add(Dense(64))\n",
    "model.add(Activation('relu'))\n",
    "model.add(Dropout(0.5))\n",
    "\n",
    "# I added the final output layer with sigmoid activation for binary classification\n",
    "model.add(Dense(1))\n",
    "model.add(Activation('sigmoid'))\n"
   ]
  },
  {
   "cell_type": "markdown",
   "id": "27f2aa7b-f8e2-4116-8b1b-f176a2011b19",
   "metadata": {},
   "source": [
    "##### Step 6: Compile the Model"
   ]
  },
  {
   "cell_type": "code",
   "execution_count": 25,
   "id": "f4c4092d-bb5e-47a1-96fb-f0e071fcb38a",
   "metadata": {},
   "outputs": [],
   "source": [
    "# 5. Compile Model\n",
    "\n",
    "# I compiled the CNN model using binary crossentropy since it's a binary classification task\n",
    "# I chose the Adam optimizer for efficient training\n",
    "# I also tracked accuracy as a performance metric\n",
    "\n",
    "model.compile(loss='binary_crossentropy', optimizer='adam', metrics=['accuracy'])\n"
   ]
  },
  {
   "cell_type": "markdown",
   "id": "91fdc490-2cd3-48da-b0a7-5113f6bfc38f",
   "metadata": {},
   "source": [
    "### Step 7: Train the Model"
   ]
  },
  {
   "cell_type": "code",
   "execution_count": 30,
   "id": "278665e7-0770-4310-9e58-94e9d2edac9b",
   "metadata": {},
   "outputs": [
    {
     "name": "stdout",
     "output_type": "stream",
     "text": [
      "Epoch 1/10\n",
      "\u001b[1m220/220\u001b[0m \u001b[32m━━━━━━━━━━━━━━━━━━━━\u001b[0m\u001b[37m\u001b[0m \u001b[1m6s\u001b[0m 16ms/step - accuracy: 0.7402 - loss: 0.5548 - val_accuracy: 0.8465 - val_loss: 0.4018\n",
      "Epoch 2/10\n",
      "\u001b[1m220/220\u001b[0m \u001b[32m━━━━━━━━━━━━━━━━━━━━\u001b[0m\u001b[37m\u001b[0m \u001b[1m5s\u001b[0m 15ms/step - accuracy: 0.9001 - loss: 0.2764 - val_accuracy: 0.9309 - val_loss: 0.1756\n",
      "Epoch 3/10\n",
      "\u001b[1m220/220\u001b[0m \u001b[32m━━━━━━━━━━━━━━━━━━━━\u001b[0m\u001b[37m\u001b[0m \u001b[1m3s\u001b[0m 15ms/step - accuracy: 0.9468 - loss: 0.1521 - val_accuracy: 0.9540 - val_loss: 0.1415\n",
      "Epoch 4/10\n",
      "\u001b[1m220/220\u001b[0m \u001b[32m━━━━━━━━━━━━━━━━━━━━\u001b[0m\u001b[37m\u001b[0m \u001b[1m3s\u001b[0m 14ms/step - accuracy: 0.9727 - loss: 0.0979 - val_accuracy: 0.9437 - val_loss: 0.1856\n",
      "Epoch 5/10\n",
      "\u001b[1m220/220\u001b[0m \u001b[32m━━━━━━━━━━━━━━━━━━━━\u001b[0m\u001b[37m\u001b[0m \u001b[1m3s\u001b[0m 14ms/step - accuracy: 0.9755 - loss: 0.0705 - val_accuracy: 0.9591 - val_loss: 0.1504\n",
      "Epoch 6/10\n",
      "\u001b[1m220/220\u001b[0m \u001b[32m━━━━━━━━━━━━━━━━━━━━\u001b[0m\u001b[37m\u001b[0m \u001b[1m3s\u001b[0m 15ms/step - accuracy: 0.9898 - loss: 0.0398 - val_accuracy: 0.9642 - val_loss: 0.1081\n",
      "Epoch 7/10\n",
      "\u001b[1m220/220\u001b[0m \u001b[32m━━━━━━━━━━━━━━━━━━━━\u001b[0m\u001b[37m\u001b[0m \u001b[1m3s\u001b[0m 14ms/step - accuracy: 0.9908 - loss: 0.0362 - val_accuracy: 0.9719 - val_loss: 0.1065\n",
      "Epoch 8/10\n",
      "\u001b[1m220/220\u001b[0m \u001b[32m━━━━━━━━━━━━━━━━━━━━\u001b[0m\u001b[37m\u001b[0m \u001b[1m3s\u001b[0m 14ms/step - accuracy: 0.9899 - loss: 0.0310 - val_accuracy: 0.9565 - val_loss: 0.1911\n",
      "Epoch 9/10\n",
      "\u001b[1m220/220\u001b[0m \u001b[32m━━━━━━━━━━━━━━━━━━━━\u001b[0m\u001b[37m\u001b[0m \u001b[1m5s\u001b[0m 15ms/step - accuracy: 0.9876 - loss: 0.0349 - val_accuracy: 0.9642 - val_loss: 0.1206\n",
      "Epoch 10/10\n",
      "\u001b[1m220/220\u001b[0m \u001b[32m━━━━━━━━━━━━━━━━━━━━\u001b[0m\u001b[37m\u001b[0m \u001b[1m3s\u001b[0m 14ms/step - accuracy: 0.9949 - loss: 0.0168 - val_accuracy: 0.9642 - val_loss: 0.1321\n"
     ]
    }
   ],
   "source": [
    "# 6. Train Model\n",
    "\n",
    "# I trained the CNN model using my training dataset\n",
    "# I used a batch size of 16 and trained it for 10 epochs\n",
    "# I reserved 10% of the training data for validation during training\n",
    "history = model.fit(x_train, y_train, batch_size=16, epochs=10, validation_split=0.1)"
   ]
  },
  {
   "cell_type": "markdown",
   "id": "c9c85a10-5462-4259-9b09-561625c1b212",
   "metadata": {},
   "source": [
    "#### Step 8: Evaluate the Model"
   ]
  },
  {
   "cell_type": "code",
   "execution_count": 33,
   "id": "cc7825a9-a2fd-4783-9d84-d56ae2c70b32",
   "metadata": {},
   "outputs": [
    {
     "name": "stdout",
     "output_type": "stream",
     "text": [
      "\u001b[1m31/31\u001b[0m \u001b[32m━━━━━━━━━━━━━━━━━━━━\u001b[0m\u001b[37m\u001b[0m \u001b[1m0s\u001b[0m 10ms/step - accuracy: 0.9771 - loss: 0.1157\n",
      "Test Accuracy: 97.55%\n"
     ]
    }
   ],
   "source": [
    "# 7. Evaluate the model on the test data\n",
    "\n",
    "# I evaluated the trained model on the test set to check its performance on unseen data\n",
    "loss, accuracy = model.evaluate(x_test, y_test)\n",
    "\n",
    "# I printed the test accuracy as a percentage with two decimal places\n",
    "print(f\"Test Accuracy: {accuracy*100:.2f}%\")"
   ]
  },
  {
   "cell_type": "markdown",
   "id": "03f778e5-a6da-4d71-bd64-a67b47102218",
   "metadata": {},
   "source": [
    "#### Step 9: Save the Model"
   ]
  },
  {
   "cell_type": "code",
   "execution_count": 36,
   "id": "1b540839-6a38-4e3c-b939-c4e48984eac8",
   "metadata": {},
   "outputs": [
    {
     "name": "stdout",
     "output_type": "stream",
     "text": [
      "Model successfully saved!\n"
     ]
    }
   ],
   "source": [
    "# 8. Save Model\n",
    "\n",
    "# I saved the trained CNN model to a file named 'brain_tumor_cnn_model.keras'\n",
    "model.save(\"brain_tumor_cnn_model.keras\")\n",
    "\n",
    "# I printed a confirmation message to indicate successful saving\n",
    "print(\"Model successfully saved!\")"
   ]
  },
  {
   "cell_type": "markdown",
   "id": "d6094f06-72d0-4aa7-8226-9e6477146934",
   "metadata": {},
   "source": [
    "#### Step 10: Load the Model"
   ]
  },
  {
   "cell_type": "code",
   "execution_count": 39,
   "id": "9ddbfac2-4a2d-4697-9929-2b2c0a04d6a9",
   "metadata": {},
   "outputs": [
    {
     "name": "stdout",
     "output_type": "stream",
     "text": [
      "✅ Model loaded successfully!\n"
     ]
    }
   ],
   "source": [
    "# 9. Load Model\n",
    "\n",
    "from tensorflow.keras.models import load_model\n",
    "import numpy as np\n",
    "\n",
    "# I loaded the saved CNN model from the file\n",
    "model = load_model(\"brain_tumor_cnn_model.keras\")\n",
    "\n",
    "# I printed a confirmation message to verify the model loaded correctly\n",
    "print(\"✅ Model loaded successfully!\")\n"
   ]
  },
  {
   "cell_type": "markdown",
   "id": "6f5de998-01f8-45f7-b388-52ecfa1b89ea",
   "metadata": {},
   "source": [
    "#### Step 11: Make a Prediction with the Model"
   ]
  },
  {
   "cell_type": "code",
   "execution_count": 41,
   "id": "1ba7bf47-f030-49eb-ba39-f8d5e1f7333e",
   "metadata": {},
   "outputs": [
    {
     "name": "stdout",
     "output_type": "stream",
     "text": [
      "\u001b[1m1/1\u001b[0m \u001b[32m━━━━━━━━━━━━━━━━━━━━\u001b[0m\u001b[37m\u001b[0m \u001b[1m0s\u001b[0m 133ms/step\n",
      "Prediction output: [[0.30808]]\n"
     ]
    }
   ],
   "source": [
    "# I created a dummy input with the same shape as the model expects (1 image, 64x64 pixels, 3 color channels)\n",
    "dummy_input = np.random.rand(1, 64, 64, 3)\n",
    "\n",
    "# I ran the model’s prediction on the dummy input\n",
    "prediction = model.predict(dummy_input)\n",
    "\n",
    "# I printed the raw prediction output\n",
    "print(\"Prediction output:\", prediction)\n"
   ]
  },
  {
   "cell_type": "code",
   "execution_count": 43,
   "id": "ce1dea08-3762-4a47-8626-7f665a5849a7",
   "metadata": {
    "scrolled": true
   },
   "outputs": [
    {
     "name": "stdout",
     "output_type": "stream",
     "text": [
      "Model Prediction: No Tumor\n"
     ]
    }
   ],
   "source": [
    "# I interpreted the prediction score as 'Tumor' or 'No Tumor'\n",
    "if prediction[0][0] > 0.5:\n",
    "    print(\"Model Prediction: Tumor\")\n",
    "else:\n",
    "    print(\"Model Prediction: No Tumor\")"
   ]
  },
  {
   "cell_type": "code",
   "execution_count": 45,
   "id": "f194d3b6-495e-4878-8ae5-3bcb774c0071",
   "metadata": {},
   "outputs": [],
   "source": [
    "from tensorflow.keras.models import load_model\n",
    "import numpy as np"
   ]
  },
  {
   "cell_type": "code",
   "execution_count": 47,
   "id": "6a6e5137-33cb-4566-97d4-34d89fed10fe",
   "metadata": {},
   "outputs": [
    {
     "name": "stdout",
     "output_type": "stream",
     "text": [
      "✅ Model loaded successfully!\n"
     ]
    }
   ],
   "source": [
    "# Model Load\n",
    "model = load_model(\"brain_tumor_cnn_model.keras\")\n",
    "print(\"✅ Model loaded successfully!\")"
   ]
  },
  {
   "cell_type": "markdown",
   "id": "e09e9810-3f01-4810-969b-0e195500f64d",
   "metadata": {},
   "source": [
    "#### Step 12: Analyze Training Performance (Check for Overfitting)"
   ]
  },
  {
   "cell_type": "code",
   "execution_count": 53,
   "id": "8836f9f1-a015-4d1e-b5b5-044473fd1be9",
   "metadata": {},
   "outputs": [
    {
     "data": {
      "image/png": "[encoded data removed]",
      "text/plain": [
       "<Figure size 1200x500 with 2 Axes>"
      ]
     },
     "metadata": {},
     "output_type": "display_data"
    }
   ],
   "source": [
    "import matplotlib.pyplot as plt\n",
    "\n",
    "# I extracted accuracy and loss for both training and validation from the history object\n",
    "acc = history.history['accuracy']\n",
    "val_acc = history.history['val_accuracy']\n",
    "loss = history.history['loss']\n",
    "val_loss = history.history['val_loss']\n",
    "epochs = range(1, len(acc) + 1)\n",
    "\n",
    "# I plotted training and validation accuracy\n",
    "plt.figure(figsize=(12, 5))\n",
    "\n",
    "plt.subplot(1, 2, 1)\n",
    "plt.plot(epochs, acc, 'b-', label='Training Accuracy')\n",
    "plt.plot(epochs, val_acc, 'r-', label='Validation Accuracy')\n",
    "plt.title('Training and Validation Accuracy')\n",
    "plt.xlabel('Epochs')\n",
    "plt.ylabel('Accuracy')\n",
    "plt.legend()\n",
    "\n",
    "# I plotted training and validation loss\n",
    "plt.subplot(1, 2, 2)\n",
    "plt.plot(epochs, loss, 'b-', label='Training Loss')\n",
    "plt.plot(epochs, val_loss, 'r-', label='Validation Loss')\n",
    "plt.title('Training and Validation Loss')\n",
    "plt.xlabel('Epochs')\n",
    "plt.ylabel('Loss')\n",
    "plt.legend()\n",
    "\n",
    "plt.show()\n"
   ]
  },
  {
   "cell_type": "markdown",
   "id": "a5fe5fe1-a576-4eaf-838d-65caf811d0b0",
   "metadata": {},
   "source": [
    "#### Step 13: Plot Accuracy and Loss Graphs"
   ]
  },
  {
   "cell_type": "code",
   "execution_count": 57,
   "id": "0bc4709d-9d5d-4128-b11e-2ab63f0ce80a",
   "metadata": {},
   "outputs": [
    {
     "data": {
      "image/png": "[encoded data removed]",
      "text/plain": [
       "<Figure size 640x480 with 1 Axes>"
      ]
     },
     "metadata": {},
     "output_type": "display_data"
    },
    {
     "data": {
      "image/png": "[encoded data removed]",
      "text/plain": [
       "<Figure size 640x480 with 1 Axes>"
      ]
     },
     "metadata": {},
     "output_type": "display_data"
    }
   ],
   "source": [
    "import matplotlib.pyplot as plt\n",
    "\n",
    "# I plotted training and validation accuracy over epochs to see how well my model learned\n",
    "plt.plot(history.history['accuracy'], label='Train Accuracy')\n",
    "plt.plot(history.history['val_accuracy'], label='Validation Accuracy')\n",
    "plt.title('Model Accuracy')\n",
    "plt.xlabel('Epochs')\n",
    "plt.ylabel('Accuracy')\n",
    "plt.legend()\n",
    "plt.grid(True)\n",
    "plt.show()\n",
    "\n",
    "# I plotted training and validation loss over epochs to check if my model was overfitting or underfitting\n",
    "plt.plot(history.history['loss'], label='Train Loss')\n",
    "plt.plot(history.history['val_loss'], label='Validation Loss')\n",
    "plt.title('Model Loss')\n",
    "plt.xlabel('Epochs')\n",
    "plt.ylabel('Loss')\n",
    "plt.legend()\n",
    "plt.grid(True)\n",
    "plt.show()\n"
   ]
  },
  {
   "cell_type": "markdown",
   "id": "84d48913-54eb-4396-b912-383b5cbb5e7c",
   "metadata": {},
   "source": [
    "### 🧪 Step 14: Evaluate on Test Set (Again)"
   ]
  },
  {
   "cell_type": "code",
   "execution_count": 61,
   "id": "b0a6c18b-7fb8-4965-8bd5-97a599215796",
   "metadata": {},
   "outputs": [
    {
     "name": "stdout",
     "output_type": "stream",
     "text": [
      "\u001b[1m31/31\u001b[0m \u001b[32m━━━━━━━━━━━━━━━━━━━━\u001b[0m\u001b[37m\u001b[0m \u001b[1m1s\u001b[0m 9ms/step - accuracy: 0.9771 - loss: 0.1157\n",
      "Test Accuracy: 97.55%\n"
     ]
    }
   ],
   "source": [
    "# I evaluated my trained model on the separate test dataset to check its real-world performance\n",
    "loss, accuracy = model.evaluate(x_test, y_test)\n",
    "\n",
    "# I printed the test accuracy percentage\n",
    "print(f\"Test Accuracy: {accuracy * 100:.2f}%\")\n"
   ]
  },
  {
   "cell_type": "markdown",
   "id": "b94717da-ca3f-47b9-bf4f-5144874ba6c7",
   "metadata": {},
   "source": [
    "#### Step 15: Data Augmentation"
   ]
  },
  {
   "cell_type": "code",
   "execution_count": 64,
   "id": "4744a6a0-532a-4642-90ba-fd23dd3e3431",
   "metadata": {},
   "outputs": [],
   "source": [
    "from tensorflow.keras.preprocessing.image import ImageDataGenerator\n",
    "\n",
    "# I created an ImageDataGenerator with augmentations like rotation, zoom, shifts, and horizontal flips\n",
    "datagen = ImageDataGenerator(\n",
    "    rotation_range=20,        # I let images rotate up to 20 degrees randomly\n",
    "    zoom_range=0.15,          # I randomly zoom images by up to 15%\n",
    "    width_shift_range=0.1,    # I shift images horizontally by up to 10%\n",
    "    height_shift_range=0.1,   # I shift images vertically by up to 10%\n",
    "    horizontal_flip=True,     # I randomly flip images horizontally\n",
    ")\n",
    "\n",
    "# I fit the augmentation generator on my training data\n",
    "datagen.fit(x_train)"
   ]
  },
  {
   "cell_type": "markdown",
   "id": "aa87b53d-de72-4aa9-ab99-feb83d96f736",
   "metadata": {},
   "source": [
    "#### Step 16: Check Class Balance"
   ]
  },
  {
   "cell_type": "code",
   "execution_count": 67,
   "id": "af937b0f-02f7-4132-8de5-76738d1ce1e9",
   "metadata": {},
   "outputs": [
    {
     "name": "stdout",
     "output_type": "stream",
     "text": [
      "Class weights: [1.5615016  0.73551543]\n"
     ]
    }
   ],
   "source": [
    "from sklearn.utils import class_weight\n",
    "import numpy as np\n",
    "\n",
    "# I computed class weights to handle any imbalance in my training labels\n",
    "class_weights = class_weight.compute_class_weight('balanced', classes=np.unique(y_train), y=y_train)\n",
    "\n",
    "# I printed the class weights to see the relative importance for each class\n",
    "print(\"Class weights:\", class_weights)\n"
   ]
  },
  {
   "cell_type": "markdown",
   "id": "dc8da6b1-b65c-4056-aab6-389d52887e33",
   "metadata": {},
   "source": [
    "#### Step 17: Confusion Matrix & Metrics"
   ]
  },
  {
   "cell_type": "code",
   "execution_count": 70,
   "id": "5b41fdbc-3e28-4aed-b8fb-cebf099e9c66",
   "metadata": {
    "scrolled": true
   },
   "outputs": [
    {
     "name": "stdout",
     "output_type": "stream",
     "text": [
      "\u001b[1m31/31\u001b[0m \u001b[32m━━━━━━━━━━━━━━━━━━━━\u001b[0m\u001b[37m\u001b[0m \u001b[1m0s\u001b[0m 12ms/step\n",
      "[[312  16]\n",
      " [  8 642]]\n",
      "              precision    recall  f1-score   support\n",
      "\n",
      "           0       0.97      0.95      0.96       328\n",
      "           1       0.98      0.99      0.98       650\n",
      "\n",
      "    accuracy                           0.98       978\n",
      "   macro avg       0.98      0.97      0.97       978\n",
      "weighted avg       0.98      0.98      0.98       978\n",
      "\n"
     ]
    }
   ],
   "source": [
    "from sklearn.metrics import classification_report, confusion_matrix\n",
    "\n",
    "# I used the trained model to predict on the test set\n",
    "y_pred = model.predict(x_test)\n",
    "\n",
    "# I converted the predicted probabilities to binary labels (0 or 1) using 0.5 threshold\n",
    "y_pred = (y_pred > 0.5).astype(\"int32\")\n",
    "\n",
    "# I printed the confusion matrix to see true positives, false positives, true negatives, and false negatives\n",
    "print(confusion_matrix(y_test, y_pred))\n",
    "\n",
    "# I printed a detailed classification report with precision, recall, f1-score, and support for each class\n",
    "print(classification_report(y_test, y_pred))"
   ]
  },
  {
   "cell_type": "code",
   "execution_count": 72,
   "id": "0d784a30-0c76-4e34-892c-1cfab36b84a8",
   "metadata": {},
   "outputs": [],
   "source": [
    "from tensorflow.keras.models import load_model\n",
    "import numpy as np"
   ]
  },
  {
   "cell_type": "code",
   "execution_count": 74,
   "id": "8901a465-e928-450f-8993-155501fc9d3a",
   "metadata": {},
   "outputs": [
    {
     "name": "stdout",
     "output_type": "stream",
     "text": [
      "✅ Model loaded successfully!\n"
     ]
    }
   ],
   "source": [
    "# Model Load\n",
    "model = load_model(\"brain_tumor_cnn_model.keras\")\n",
    "print(\"✅ Model loaded successfully!\")"
   ]
  },
  {
   "cell_type": "markdown",
   "id": "58c1c244-4355-4d7b-88c3-d333827086fe",
   "metadata": {},
   "source": [
    "### Step 18: Retrain with Augmentation"
   ]
  },
  {
   "cell_type": "code",
   "execution_count": 78,
   "id": "6a79454b-e73f-4763-a5ff-60867bbe44d0",
   "metadata": {},
   "outputs": [
    {
     "name": "stdout",
     "output_type": "stream",
     "text": [
      "Epoch 1/10\n",
      "\u001b[1m244/244\u001b[0m \u001b[32m━━━━━━━━━━━━━━━━━━━━\u001b[0m\u001b[37m\u001b[0m \u001b[1m9s\u001b[0m 30ms/step - accuracy: 0.8453 - loss: 0.4400 - val_accuracy: 0.9724 - val_loss: 0.0705\n",
      "Epoch 2/10\n",
      "\u001b[1m244/244\u001b[0m \u001b[32m━━━━━━━━━━━━━━━━━━━━\u001b[0m\u001b[37m\u001b[0m \u001b[1m0s\u001b[0m 1ms/step - accuracy: 1.0000 - loss: 0.1395 - val_accuracy: 0.9724 - val_loss: 0.0724\n",
      "Epoch 3/10\n",
      "\u001b[1m244/244\u001b[0m \u001b[32m━━━━━━━━━━━━━━━━━━━━\u001b[0m\u001b[37m\u001b[0m \u001b[1m7s\u001b[0m 29ms/step - accuracy: 0.9211 - loss: 0.2114 - val_accuracy: 0.9796 - val_loss: 0.0704\n",
      "Epoch 4/10\n",
      "\u001b[1m244/244\u001b[0m \u001b[32m━━━━━━━━━━━━━━━━━━━━\u001b[0m\u001b[37m\u001b[0m \u001b[1m0s\u001b[0m 1ms/step - accuracy: 1.0000 - loss: 0.0651 - val_accuracy: 0.9775 - val_loss: 0.0683\n",
      "Epoch 5/10\n",
      "\u001b[1m244/244\u001b[0m \u001b[32m━━━━━━━━━━━━━━━━━━━━\u001b[0m\u001b[37m\u001b[0m \u001b[1m7s\u001b[0m 29ms/step - accuracy: 0.9376 - loss: 0.1594 - val_accuracy: 0.9775 - val_loss: 0.0656\n",
      "Epoch 6/10\n",
      "\u001b[1m244/244\u001b[0m \u001b[32m━━━━━━━━━━━━━━━━━━━━\u001b[0m\u001b[37m\u001b[0m \u001b[1m0s\u001b[0m 1ms/step - accuracy: 0.8750 - loss: 0.6397 - val_accuracy: 0.9755 - val_loss: 0.0635\n",
      "Epoch 7/10\n",
      "\u001b[1m244/244\u001b[0m \u001b[32m━━━━━━━━━━━━━━━━━━━━\u001b[0m\u001b[37m\u001b[0m \u001b[1m7s\u001b[0m 29ms/step - accuracy: 0.9506 - loss: 0.1342 - val_accuracy: 0.9826 - val_loss: 0.0488\n",
      "Epoch 8/10\n",
      "\u001b[1m244/244\u001b[0m \u001b[32m━━━━━━━━━━━━━━━━━━━━\u001b[0m\u001b[37m\u001b[0m \u001b[1m0s\u001b[0m 1ms/step - accuracy: 0.9375 - loss: 0.2271 - val_accuracy: 0.9826 - val_loss: 0.0486\n",
      "Epoch 9/10\n",
      "\u001b[1m244/244\u001b[0m \u001b[32m━━━━━━━━━━━━━━━━━━━━\u001b[0m\u001b[37m\u001b[0m \u001b[1m7s\u001b[0m 29ms/step - accuracy: 0.9559 - loss: 0.1242 - val_accuracy: 0.9836 - val_loss: 0.0375\n",
      "Epoch 10/10\n",
      "\u001b[1m244/244\u001b[0m \u001b[32m━━━━━━━━━━━━━━━━━━━━\u001b[0m\u001b[37m\u001b[0m \u001b[1m0s\u001b[0m 1ms/step - accuracy: 1.0000 - loss: 0.0488 - val_accuracy: 0.9826 - val_loss: 0.0423\n"
     ]
    }
   ],
   "source": [
    "# Instead of model.fit(), use .flow() to get augmented data batches\n",
    "\n",
    "import warnings\n",
    "warnings.filterwarnings(\"ignore\", category=UserWarning, module=\"keras\")\n",
    "\n",
    "history = model.fit(\n",
    "    datagen.flow(x_train, y_train, batch_size=16),\n",
    "    steps_per_epoch=len(x_train) // 16,\n",
    "    epochs=10,\n",
    "    validation_data=(x_test, y_test)\n",
    ")\n",
    "\n"
   ]
  },
  {
   "cell_type": "markdown",
   "id": "8a2eb831-0472-4762-8d5d-fc7e9ac96ee3",
   "metadata": {},
   "source": [
    "### Step 19: Build a Prediction Pipeline"
   ]
  },
  {
   "cell_type": "code",
   "execution_count": 81,
   "id": "a239047b-2c81-4b63-a0db-5feee858cdd8",
   "metadata": {},
   "outputs": [
    {
     "name": "stdout",
     "output_type": "stream",
     "text": [
      "\u001b[1m1/1\u001b[0m \u001b[32m━━━━━━━━━━━━━━━━━━━━\u001b[0m\u001b[37m\u001b[0m \u001b[1m0s\u001b[0m 115ms/step\n",
      "🧠 Prediction: Tumor\n",
      "✅ Confidence: 1.00\n"
     ]
    }
   ],
   "source": [
    "import os\n",
    "import cv2\n",
    "import numpy as np\n",
    "from tensorflow.keras.models import load_model\n",
    "\n",
    "# Load the trained model\n",
    "model = load_model(\"brain_tumor_cnn_model.keras\")\n",
    "\n",
    "# Set the base directory for my dataset\n",
    "base_dir = r\"D:\\Software\\For Other\\AI\\Data Science\\Data\\Folder wise\\Deep Learning Project\\Brain Tumor Image Classification\\datasets\"\n",
    "\n",
    "# I chose the image I want to predict (change the path as needed)\n",
    "image_path = os.path.join(base_dir, \"yes\", \"1.jpg\")\n",
    "\n",
    "def predict_image(image_path):\n",
    "    if not os.path.exists(image_path):\n",
    "        print(f\"❌ File does not exist: {image_path}\")\n",
    "        return\n",
    "    \n",
    "    # Load the image with OpenCV and convert color to RGB\n",
    "    img_cv = cv2.imread(image_path)\n",
    "    img_rgb = cv2.cvtColor(img_cv, cv2.COLOR_BGR2RGB)\n",
    "\n",
    "    # Resize image to 64x64 (input size for the model)\n",
    "    img_resized = cv2.resize(img_rgb, (64, 64))\n",
    "\n",
    "    # Normalize pixel values\n",
    "    img_normalized = img_resized / 255.0\n",
    "\n",
    "    # Add batch dimension\n",
    "    img_input = np.expand_dims(img_normalized, axis=0)\n",
    "\n",
    "    # Get prediction from the model\n",
    "    prediction = model.predict(img_input)[0][0]\n",
    "\n",
    "    # Decide label and confidence\n",
    "    label = \"Tumor\" if prediction > 0.5 else \"No Tumor\"\n",
    "    confidence = prediction if prediction > 0.5 else 1 - prediction\n",
    "\n",
    "    print(f\"🧠 Prediction: {label}\")\n",
    "    print(f\"✅ Confidence: {confidence:.2f}\")\n",
    "\n",
    "# Run my prediction\n",
    "predict_image(image_path)\n"
   ]
  }
 ],
 "metadata": {
  "kernelspec": {
   "display_name": "Python [conda env:base] *",
   "language": "python",
   "name": "conda-base-py"
  },
  "language_info": {
   "codemirror_mode": {
    "name": "ipython",
    "version": 3
   },
   "file_extension": ".py",
   "mimetype": "text/x-python",
   "name": "python",
   "nbconvert_exporter": "python",
   "pygments_lexer": "ipython3",
   "version": "3.12.7"
  }
 },
 "nbformat": 4,
 "nbformat_minor": 5
}
